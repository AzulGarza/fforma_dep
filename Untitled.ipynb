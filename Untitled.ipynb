{
 "cells": [
  {
   "cell_type": "code",
   "execution_count": 1,
   "metadata": {},
   "outputs": [],
   "source": [
    "from fforma import *\n",
    "import matplotlib.pyplot as plt"
   ]
  },
  {
   "cell_type": "code",
   "execution_count": 2,
   "metadata": {},
   "outputs": [],
   "source": [
    "monthly = pd.read_csv('data/data_m4/Monthly-train.csv', nrows=1000).set_index('V1')"
   ]
  },
  {
   "cell_type": "code",
   "execution_count": 3,
   "metadata": {},
   "outputs": [],
   "source": [
    "list_series = [ts.dropna().to_numpy() for idx, ts in monthly.iterrows()]"
   ]
  },
  {
   "cell_type": "code",
   "execution_count": 4,
   "metadata": {},
   "outputs": [],
   "source": [
    "#list_ts_test = [ts.dropna().to_numpy() for idx, ts in daily_test.iterrows()]"
   ]
  },
  {
   "cell_type": "code",
   "execution_count": 5,
   "metadata": {},
   "outputs": [],
   "source": [
    "val_periods = 24"
   ]
  },
  {
   "cell_type": "code",
   "execution_count": 6,
   "metadata": {},
   "outputs": [],
   "source": [
    "models = [Naive(), SeasonalNaive(), Naive2(), RandomWalkDrift()]"
   ]
  },
  {
   "cell_type": "code",
   "execution_count": 7,
   "metadata": {},
   "outputs": [],
   "source": [
    "frcy = 12"
   ]
  },
  {
   "cell_type": "code",
   "execution_count": 8,
   "metadata": {},
   "outputs": [
    {
     "name": "stderr",
     "output_type": "stream",
     "text": [
      "/home/fede/.local/lib/python3.6/site-packages/entropy/entropy.py:177: RuntimeWarning: divide by zero encountered in log2\n",
      "  se = -np.multiply(psd_norm, np.log2(psd_norm)).sum()\n",
      "/home/fede/.local/lib/python3.6/site-packages/entropy/entropy.py:177: RuntimeWarning: divide by zero encountered in log2\n",
      "  se = -np.multiply(psd_norm, np.log2(psd_norm)).sum()\n",
      "/home/fede/.local/lib/python3.6/site-packages/entropy/entropy.py:177: RuntimeWarning: invalid value encountered in multiply\n",
      "  se = -np.multiply(psd_norm, np.log2(psd_norm)).sum()\n",
      "/home/fede/.local/lib/python3.6/site-packages/entropy/entropy.py:177: RuntimeWarning: invalid value encountered in multiply\n",
      "  se = -np.multiply(psd_norm, np.log2(psd_norm)).sum()\n",
      "/home/fede/.local/lib/python3.6/site-packages/entropy/entropy.py:177: RuntimeWarning: divide by zero encountered in log2\n",
      "  se = -np.multiply(psd_norm, np.log2(psd_norm)).sum()\n",
      "/home/fede/.local/lib/python3.6/site-packages/entropy/entropy.py:177: RuntimeWarning: invalid value encountered in multiply\n",
      "  se = -np.multiply(psd_norm, np.log2(psd_norm)).sum()\n",
      "/home/fede/.local/lib/python3.6/site-packages/entropy/entropy.py:177: RuntimeWarning: divide by zero encountered in log2\n",
      "  se = -np.multiply(psd_norm, np.log2(psd_norm)).sum()\n",
      "/home/fede/.local/lib/python3.6/site-packages/entropy/entropy.py:177: RuntimeWarning: invalid value encountered in multiply\n",
      "  se = -np.multiply(psd_norm, np.log2(psd_norm)).sum()\n",
      "/home/fede/.local/lib/python3.6/site-packages/statsmodels/regression/linear_model.py:1405: RuntimeWarning: invalid value encountered in sqrt\n",
      "  return rho, np.sqrt(sigmasq)\n",
      "/home/fede/.local/lib/python3.6/site-packages/entropy/entropy.py:177: RuntimeWarning: divide by zero encountered in log2\n",
      "  se = -np.multiply(psd_norm, np.log2(psd_norm)).sum()\n",
      "/home/fede/.local/lib/python3.6/site-packages/entropy/entropy.py:177: RuntimeWarning: invalid value encountered in multiply\n",
      "  se = -np.multiply(psd_norm, np.log2(psd_norm)).sum()\n",
      "/home/fede/.local/lib/python3.6/site-packages/entropy/entropy.py:177: RuntimeWarning: divide by zero encountered in log2\n",
      "  se = -np.multiply(psd_norm, np.log2(psd_norm)).sum()\n",
      "/home/fede/.local/lib/python3.6/site-packages/entropy/entropy.py:177: RuntimeWarning: invalid value encountered in multiply\n",
      "  se = -np.multiply(psd_norm, np.log2(psd_norm)).sum()\n",
      "/home/fede/.local/lib/python3.6/site-packages/entropy/entropy.py:177: RuntimeWarning: divide by zero encountered in log2\n",
      "  se = -np.multiply(psd_norm, np.log2(psd_norm)).sum()\n",
      "/home/fede/.local/lib/python3.6/site-packages/entropy/entropy.py:177: RuntimeWarning: invalid value encountered in multiply\n",
      "  se = -np.multiply(psd_norm, np.log2(psd_norm)).sum()\n",
      "/home/fede/.local/lib/python3.6/site-packages/entropy/entropy.py:177: RuntimeWarning: divide by zero encountered in log2\n",
      "  se = -np.multiply(psd_norm, np.log2(psd_norm)).sum()\n",
      "/home/fede/.local/lib/python3.6/site-packages/entropy/entropy.py:177: RuntimeWarning: invalid value encountered in multiply\n",
      "  se = -np.multiply(psd_norm, np.log2(psd_norm)).sum()\n",
      "/home/fede/.local/lib/python3.6/site-packages/entropy/entropy.py:177: RuntimeWarning: divide by zero encountered in log2\n",
      "  se = -np.multiply(psd_norm, np.log2(psd_norm)).sum()\n",
      "/home/fede/.local/lib/python3.6/site-packages/entropy/entropy.py:177: RuntimeWarning: invalid value encountered in multiply\n",
      "  se = -np.multiply(psd_norm, np.log2(psd_norm)).sum()\n",
      "/home/fede/.local/lib/python3.6/site-packages/entropy/entropy.py:177: RuntimeWarning: divide by zero encountered in log2\n",
      "  se = -np.multiply(psd_norm, np.log2(psd_norm)).sum()\n",
      "/home/fede/.local/lib/python3.6/site-packages/entropy/entropy.py:177: RuntimeWarning: divide by zero encountered in log2\n",
      "  se = -np.multiply(psd_norm, np.log2(psd_norm)).sum()\n",
      "/home/fede/.local/lib/python3.6/site-packages/entropy/entropy.py:177: RuntimeWarning: invalid value encountered in multiply\n",
      "  se = -np.multiply(psd_norm, np.log2(psd_norm)).sum()\n",
      "/home/fede/.local/lib/python3.6/site-packages/entropy/entropy.py:177: RuntimeWarning: divide by zero encountered in log2\n",
      "  se = -np.multiply(psd_norm, np.log2(psd_norm)).sum()\n",
      "/home/fede/.local/lib/python3.6/site-packages/entropy/entropy.py:177: RuntimeWarning: invalid value encountered in multiply\n",
      "  se = -np.multiply(psd_norm, np.log2(psd_norm)).sum()\n",
      "/home/fede/.local/lib/python3.6/site-packages/entropy/entropy.py:177: RuntimeWarning: invalid value encountered in multiply\n",
      "  se = -np.multiply(psd_norm, np.log2(psd_norm)).sum()\n",
      "/home/fede/.local/lib/python3.6/site-packages/entropy/entropy.py:177: RuntimeWarning: divide by zero encountered in log2\n",
      "  se = -np.multiply(psd_norm, np.log2(psd_norm)).sum()\n",
      "/home/fede/.local/lib/python3.6/site-packages/entropy/entropy.py:177: RuntimeWarning: invalid value encountered in multiply\n",
      "  se = -np.multiply(psd_norm, np.log2(psd_norm)).sum()\n",
      "/home/fede/.local/lib/python3.6/site-packages/entropy/entropy.py:177: RuntimeWarning: divide by zero encountered in log2\n",
      "  se = -np.multiply(psd_norm, np.log2(psd_norm)).sum()\n",
      "/home/fede/.local/lib/python3.6/site-packages/entropy/entropy.py:177: RuntimeWarning: divide by zero encountered in log2\n",
      "  se = -np.multiply(psd_norm, np.log2(psd_norm)).sum()\n",
      "/home/fede/.local/lib/python3.6/site-packages/entropy/entropy.py:177: RuntimeWarning: invalid value encountered in multiply\n",
      "  se = -np.multiply(psd_norm, np.log2(psd_norm)).sum()\n",
      "/home/fede/.local/lib/python3.6/site-packages/entropy/entropy.py:177: RuntimeWarning: invalid value encountered in multiply\n",
      "  se = -np.multiply(psd_norm, np.log2(psd_norm)).sum()\n",
      "/home/fede/.local/lib/python3.6/site-packages/entropy/entropy.py:177: RuntimeWarning: divide by zero encountered in log2\n",
      "  se = -np.multiply(psd_norm, np.log2(psd_norm)).sum()\n",
      "/home/fede/.local/lib/python3.6/site-packages/entropy/entropy.py:177: RuntimeWarning: divide by zero encountered in log2\n",
      "  se = -np.multiply(psd_norm, np.log2(psd_norm)).sum()\n",
      "/home/fede/.local/lib/python3.6/site-packages/entropy/entropy.py:177: RuntimeWarning: invalid value encountered in multiply\n",
      "  se = -np.multiply(psd_norm, np.log2(psd_norm)).sum()\n",
      "/home/fede/.local/lib/python3.6/site-packages/entropy/entropy.py:177: RuntimeWarning: invalid value encountered in multiply\n",
      "  se = -np.multiply(psd_norm, np.log2(psd_norm)).sum()\n",
      "/home/fede/.local/lib/python3.6/site-packages/statsmodels/regression/linear_model.py:1405: RuntimeWarning: invalid value encountered in sqrt\n",
      "  return rho, np.sqrt(sigmasq)\n",
      "/home/fede/.local/lib/python3.6/site-packages/entropy/entropy.py:177: RuntimeWarning: divide by zero encountered in log2\n",
      "  se = -np.multiply(psd_norm, np.log2(psd_norm)).sum()\n",
      "/home/fede/.local/lib/python3.6/site-packages/entropy/entropy.py:177: RuntimeWarning: invalid value encountered in multiply\n",
      "  se = -np.multiply(psd_norm, np.log2(psd_norm)).sum()\n"
     ]
    }
   ],
   "source": [
    "fforma = FForma().train(models, list_series, frcy)"
   ]
  },
  {
   "cell_type": "code",
   "execution_count": 9,
   "metadata": {},
   "outputs": [
    {
     "data": {
      "text/plain": [
       "<matplotlib.axes._subplots.AxesSubplot at 0x7fee6833be48>"
      ]
     },
     "execution_count": 9,
     "metadata": {},
     "output_type": "execute_result"
    },
    {
     "data": {
      "image/png": "[encoded data removed]",
      "text/plain": [
       "<Figure size 432x288 with 1 Axes>"
      ]
     },
     "metadata": {
      "needs_background": "light"
     },
     "output_type": "display_data"
    }
   ],
   "source": [
    "xgb.plot_importance(fforma.xgb)"
   ]
  },
  {
   "cell_type": "code",
   "execution_count": 10,
   "metadata": {},
   "outputs": [],
   "source": [
    "preds = fforma.predict(val_periods)"
   ]
  },
  {
   "cell_type": "code",
   "execution_count": 11,
   "metadata": {},
   "outputs": [
    {
     "data": {
      "text/plain": [
       "array([[ 7676.27978797,  7322.792407  ,  6388.69947073, ...,\n",
       "         5533.11366622,  5641.63573242,  6883.95501971],\n",
       "       [ 2409.69290907,  2195.1345573 ,  2237.37193126, ...,\n",
       "         2110.88364994,  2135.45708424,  2440.        ],\n",
       "       [13189.6193941 , 13269.950567  , 13386.58729464, ...,\n",
       "        13578.07375571, 13552.75383004, 13416.08359465],\n",
       "       ...,\n",
       "       [ 3622.94332559,  3706.24041413,  3817.21100217, ...,\n",
       "         3897.56404375,  3880.06485477,  3737.04283055],\n",
       "       [ 2971.71523019,  3066.51462401,  3172.55786446, ...,\n",
       "         3237.91434347,  3223.78725033,  3088.02685013],\n",
       "       [ 1412.923838  ,  1424.57266818,  1303.02421128, ...,\n",
       "         1325.06693182,  1311.64398594,  1405.31278611]])"
      ]
     },
     "execution_count": 11,
     "metadata": {},
     "output_type": "execute_result"
    }
   ],
   "source": [
    "preds"
   ]
  },
  {
   "cell_type": "markdown",
   "metadata": {},
   "source": [
    "### Comparing with test "
   ]
  },
  {
   "cell_type": "code",
   "execution_count": 12,
   "metadata": {},
   "outputs": [],
   "source": [
    "monthly_test = pd.read_csv('data/data_m4/Monthly-test.csv', nrows=1000).set_index('V1')"
   ]
  },
  {
   "cell_type": "code",
   "execution_count": 13,
   "metadata": {},
   "outputs": [],
   "source": [
    "list_series_test = np.array([ts.dropna().to_numpy() for idx, ts in monthly_test.iterrows()])"
   ]
  },
  {
   "cell_type": "code",
   "execution_count": 14,
   "metadata": {},
   "outputs": [],
   "source": [
    "preds_monthly = fforma.predict(len(list_series_test[0]))"
   ]
  },
  {
   "cell_type": "code",
   "execution_count": 15,
   "metadata": {},
   "outputs": [
    {
     "data": {
      "text/plain": [
       "(1000, 18)"
      ]
     },
     "execution_count": 15,
     "metadata": {},
     "output_type": "execute_result"
    }
   ],
   "source": [
    "preds_monthly.shape"
   ]
  },
  {
   "cell_type": "code",
   "execution_count": 16,
   "metadata": {},
   "outputs": [
    {
     "data": {
      "text/plain": [
       "(1000, 18)"
      ]
     },
     "execution_count": 16,
     "metadata": {},
     "output_type": "execute_result"
    }
   ],
   "source": [
    "list_series_test.shape"
   ]
  },
  {
   "cell_type": "markdown",
   "metadata": {},
   "source": [
    "Calculating owa"
   ]
  },
  {
   "cell_type": "code",
   "execution_count": 17,
   "metadata": {},
   "outputs": [],
   "source": [
    "(owa, _) = fforma.calculate_owa(list_series_test, preds_monthly, 18, list_series, 12, parallel=False)"
   ]
  },
  {
   "cell_type": "code",
   "execution_count": 18,
   "metadata": {},
   "outputs": [
    {
     "data": {
      "text/plain": [
       "0.9669212226223258"
      ]
     },
     "execution_count": 18,
     "metadata": {},
     "output_type": "execute_result"
    }
   ],
   "source": [
    "owa"
   ]
  },
  {
   "cell_type": "code",
   "execution_count": 33,
   "metadata": {},
   "outputs": [],
   "source": [
    "smapes = np.array([fforma.smape(ts_test, ts_hat) for ts_test, ts_hat in zip(list_series_test, preds_monthly)])"
   ]
  },
  {
   "cell_type": "code",
   "execution_count": 35,
   "metadata": {},
   "outputs": [],
   "source": [
    "mases = np.array([fforma.mase(ts_train, ts_test, ts_hat) for ts_train, ts_test, ts_hat in zip(list_series, list_series_test, preds_monthly)])"
   ]
  },
  {
   "cell_type": "code",
   "execution_count": 38,
   "metadata": {},
   "outputs": [],
   "source": [
    "preds_naive_2 = np.array([Naive2().fit(ts, frcy).predict(len(list_series_test[0])) for ts in list_series])"
   ]
  },
  {
   "cell_type": "code",
   "execution_count": 39,
   "metadata": {},
   "outputs": [
    {
     "data": {
      "text/plain": [
       "(1000, 18)"
      ]
     },
     "execution_count": 39,
     "metadata": {},
     "output_type": "execute_result"
    }
   ],
   "source": [
    "preds_naive_2.shape"
   ]
  },
  {
   "cell_type": "code",
   "execution_count": 40,
   "metadata": {},
   "outputs": [],
   "source": [
    "smapes_naive2 = np.array([fforma.smape(ts_test, ts_hat) for ts_test, ts_hat in zip(list_series_test, preds_naive_2)]) "
   ]
  },
  {
   "cell_type": "code",
   "execution_count": 41,
   "metadata": {},
   "outputs": [],
   "source": [
    "mases_naive2 = np.array([fforma.mase(ts_train, ts_test, ts_hat) for ts_train, ts_test, ts_hat in zip(list_series, list_series_test, preds_naive_2)])"
   ]
  },
  {
   "cell_type": "code",
   "execution_count": 51,
   "metadata": {},
   "outputs": [],
   "source": [
    "owa = (0.5*smapes.mean()/smapes_naive2.mean() + 0.5*mases.mean()/mases_naive2.mean()).mean()"
   ]
  },
  {
   "cell_type": "code",
   "execution_count": 52,
   "metadata": {},
   "outputs": [
    {
     "data": {
      "text/plain": [
       "0.9512913311078055"
      ]
     },
     "execution_count": 52,
     "metadata": {},
     "output_type": "execute_result"
    }
   ],
   "source": [
    "owa"
   ]
  }
 ],
 "metadata": {
  "kernelspec": {
   "display_name": "Python 3",
   "language": "python",
   "name": "python3"
  },
  "language_info": {
   "codemirror_mode": {
    "name": "ipython",
    "version": 3
   },
   "file_extension": ".py",
   "mimetype": "text/x-python",
   "name": "python",
   "nbconvert_exporter": "python",
   "pygments_lexer": "ipython3",
   "version": "3.6.7"
  }
 },
 "nbformat": 4,
 "nbformat_minor": 4
}
