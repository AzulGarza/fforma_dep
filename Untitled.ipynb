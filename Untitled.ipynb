{
 "cells": [
  {
   "cell_type": "code",
   "execution_count": 29,
   "metadata": {},
   "outputs": [],
   "source": [
    "import tsfeatures as tsf\n",
    "from benchmarks import * \n",
    "import pandas as pd\n",
    "from sklearn.metrics import mean_squared_error\n",
    "from statsmodels.tsa.seasonal import STL \n",
    "import xgboost as xgb\n",
    "from sklearn.multioutput import MultiOutputRegressor\n",
    "from scipy.special import softmax\n",
    "import copy\n",
    "import matplotlib.pyplot as plt"
   ]
  },
  {
   "cell_type": "code",
   "execution_count": 41,
   "metadata": {},
   "outputs": [],
   "source": [
    "monthly = pd.read_csv('data/Monthly-train.csv', nrows=1000).set_index('V1')"
   ]
  },
  {
   "cell_type": "code",
   "execution_count": 42,
   "metadata": {},
   "outputs": [],
   "source": [
    "inflacion = pd.read_csv('data/Consulta_20191125-002640040.csv', skiprows=17, encoding='ISO-8859-1')['SP1'].to_numpy()"
   ]
  },
  {
   "cell_type": "code",
   "execution_count": 44,
   "metadata": {},
   "outputs": [],
   "source": [
    "#daily_test = pd.read_csv('data/Daily-test.csv', nrows=100).set_index('V1')"
   ]
  },
  {
   "cell_type": "code",
   "execution_count": 45,
   "metadata": {},
   "outputs": [
    {
     "data": {
      "text/html": [
       "<div>\n",
       "<style scoped>\n",
       "    .dataframe tbody tr th:only-of-type {\n",
       "        vertical-align: middle;\n",
       "    }\n",
       "\n",
       "    .dataframe tbody tr th {\n",
       "        vertical-align: top;\n",
       "    }\n",
       "\n",
       "    .dataframe thead th {\n",
       "        text-align: right;\n",
       "    }\n",
       "</style>\n",
       "<table border=\"1\" class=\"dataframe\">\n",
       "  <thead>\n",
       "    <tr style=\"text-align: right;\">\n",
       "      <th></th>\n",
       "      <th>V2</th>\n",
       "      <th>V3</th>\n",
       "      <th>V4</th>\n",
       "      <th>V5</th>\n",
       "      <th>V6</th>\n",
       "      <th>V7</th>\n",
       "      <th>V8</th>\n",
       "      <th>V9</th>\n",
       "      <th>V10</th>\n",
       "      <th>V11</th>\n",
       "      <th>...</th>\n",
       "      <th>V2786</th>\n",
       "      <th>V2787</th>\n",
       "      <th>V2788</th>\n",
       "      <th>V2789</th>\n",
       "      <th>V2790</th>\n",
       "      <th>V2791</th>\n",
       "      <th>V2792</th>\n",
       "      <th>V2793</th>\n",
       "      <th>V2794</th>\n",
       "      <th>V2795</th>\n",
       "    </tr>\n",
       "    <tr>\n",
       "      <th>V1</th>\n",
       "      <th></th>\n",
       "      <th></th>\n",
       "      <th></th>\n",
       "      <th></th>\n",
       "      <th></th>\n",
       "      <th></th>\n",
       "      <th></th>\n",
       "      <th></th>\n",
       "      <th></th>\n",
       "      <th></th>\n",
       "      <th></th>\n",
       "      <th></th>\n",
       "      <th></th>\n",
       "      <th></th>\n",
       "      <th></th>\n",
       "      <th></th>\n",
       "      <th></th>\n",
       "      <th></th>\n",
       "      <th></th>\n",
       "      <th></th>\n",
       "      <th></th>\n",
       "    </tr>\n",
       "  </thead>\n",
       "  <tbody>\n",
       "    <tr>\n",
       "      <th>M1</th>\n",
       "      <td>8000.0</td>\n",
       "      <td>8350.0</td>\n",
       "      <td>8570.0</td>\n",
       "      <td>7700.0</td>\n",
       "      <td>7080.0</td>\n",
       "      <td>6520.0</td>\n",
       "      <td>6070.0</td>\n",
       "      <td>6650.0</td>\n",
       "      <td>6830.0</td>\n",
       "      <td>5710.0</td>\n",
       "      <td>...</td>\n",
       "      <td>NaN</td>\n",
       "      <td>NaN</td>\n",
       "      <td>NaN</td>\n",
       "      <td>NaN</td>\n",
       "      <td>NaN</td>\n",
       "      <td>NaN</td>\n",
       "      <td>NaN</td>\n",
       "      <td>NaN</td>\n",
       "      <td>NaN</td>\n",
       "      <td>NaN</td>\n",
       "    </tr>\n",
       "    <tr>\n",
       "      <th>M2</th>\n",
       "      <td>2440.0</td>\n",
       "      <td>2490.0</td>\n",
       "      <td>2710.0</td>\n",
       "      <td>2290.0</td>\n",
       "      <td>1960.0</td>\n",
       "      <td>1990.0</td>\n",
       "      <td>1960.0</td>\n",
       "      <td>2530.0</td>\n",
       "      <td>2640.0</td>\n",
       "      <td>2650.0</td>\n",
       "      <td>...</td>\n",
       "      <td>NaN</td>\n",
       "      <td>NaN</td>\n",
       "      <td>NaN</td>\n",
       "      <td>NaN</td>\n",
       "      <td>NaN</td>\n",
       "      <td>NaN</td>\n",
       "      <td>NaN</td>\n",
       "      <td>NaN</td>\n",
       "      <td>NaN</td>\n",
       "      <td>NaN</td>\n",
       "    </tr>\n",
       "    <tr>\n",
       "      <th>M3</th>\n",
       "      <td>2670.0</td>\n",
       "      <td>2590.0</td>\n",
       "      <td>2784.0</td>\n",
       "      <td>2816.0</td>\n",
       "      <td>2888.0</td>\n",
       "      <td>2906.0</td>\n",
       "      <td>2839.0</td>\n",
       "      <td>2860.0</td>\n",
       "      <td>2798.0</td>\n",
       "      <td>2795.0</td>\n",
       "      <td>...</td>\n",
       "      <td>NaN</td>\n",
       "      <td>NaN</td>\n",
       "      <td>NaN</td>\n",
       "      <td>NaN</td>\n",
       "      <td>NaN</td>\n",
       "      <td>NaN</td>\n",
       "      <td>NaN</td>\n",
       "      <td>NaN</td>\n",
       "      <td>NaN</td>\n",
       "      <td>NaN</td>\n",
       "    </tr>\n",
       "    <tr>\n",
       "      <th>M4</th>\n",
       "      <td>7264.0</td>\n",
       "      <td>7215.0</td>\n",
       "      <td>7022.0</td>\n",
       "      <td>7040.0</td>\n",
       "      <td>6966.0</td>\n",
       "      <td>6984.0</td>\n",
       "      <td>7025.0</td>\n",
       "      <td>7082.0</td>\n",
       "      <td>6956.0</td>\n",
       "      <td>7014.0</td>\n",
       "      <td>...</td>\n",
       "      <td>NaN</td>\n",
       "      <td>NaN</td>\n",
       "      <td>NaN</td>\n",
       "      <td>NaN</td>\n",
       "      <td>NaN</td>\n",
       "      <td>NaN</td>\n",
       "      <td>NaN</td>\n",
       "      <td>NaN</td>\n",
       "      <td>NaN</td>\n",
       "      <td>NaN</td>\n",
       "    </tr>\n",
       "    <tr>\n",
       "      <th>M5</th>\n",
       "      <td>4210.0</td>\n",
       "      <td>4290.0</td>\n",
       "      <td>4250.0</td>\n",
       "      <td>4320.0</td>\n",
       "      <td>4320.0</td>\n",
       "      <td>4330.0</td>\n",
       "      <td>4320.0</td>\n",
       "      <td>4260.0</td>\n",
       "      <td>4220.0</td>\n",
       "      <td>4260.0</td>\n",
       "      <td>...</td>\n",
       "      <td>NaN</td>\n",
       "      <td>NaN</td>\n",
       "      <td>NaN</td>\n",
       "      <td>NaN</td>\n",
       "      <td>NaN</td>\n",
       "      <td>NaN</td>\n",
       "      <td>NaN</td>\n",
       "      <td>NaN</td>\n",
       "      <td>NaN</td>\n",
       "      <td>NaN</td>\n",
       "    </tr>\n",
       "  </tbody>\n",
       "</table>\n",
       "<p>5 rows × 2794 columns</p>\n",
       "</div>"
      ],
      "text/plain": [
       "        V2      V3      V4      V5      V6      V7      V8      V9     V10  \\\n",
       "V1                                                                           \n",
       "M1  8000.0  8350.0  8570.0  7700.0  7080.0  6520.0  6070.0  6650.0  6830.0   \n",
       "M2  2440.0  2490.0  2710.0  2290.0  1960.0  1990.0  1960.0  2530.0  2640.0   \n",
       "M3  2670.0  2590.0  2784.0  2816.0  2888.0  2906.0  2839.0  2860.0  2798.0   \n",
       "M4  7264.0  7215.0  7022.0  7040.0  6966.0  6984.0  7025.0  7082.0  6956.0   \n",
       "M5  4210.0  4290.0  4250.0  4320.0  4320.0  4330.0  4320.0  4260.0  4220.0   \n",
       "\n",
       "       V11  ...  V2786  V2787  V2788  V2789  V2790  V2791  V2792  V2793  \\\n",
       "V1          ...                                                           \n",
       "M1  5710.0  ...    NaN    NaN    NaN    NaN    NaN    NaN    NaN    NaN   \n",
       "M2  2650.0  ...    NaN    NaN    NaN    NaN    NaN    NaN    NaN    NaN   \n",
       "M3  2795.0  ...    NaN    NaN    NaN    NaN    NaN    NaN    NaN    NaN   \n",
       "M4  7014.0  ...    NaN    NaN    NaN    NaN    NaN    NaN    NaN    NaN   \n",
       "M5  4260.0  ...    NaN    NaN    NaN    NaN    NaN    NaN    NaN    NaN   \n",
       "\n",
       "    V2794  V2795  \n",
       "V1                \n",
       "M1    NaN    NaN  \n",
       "M2    NaN    NaN  \n",
       "M3    NaN    NaN  \n",
       "M4    NaN    NaN  \n",
       "M5    NaN    NaN  \n",
       "\n",
       "[5 rows x 2794 columns]"
      ]
     },
     "execution_count": 45,
     "metadata": {},
     "output_type": "execute_result"
    }
   ],
   "source": [
    "monthly.head()"
   ]
  },
  {
   "cell_type": "code",
   "execution_count": 46,
   "metadata": {},
   "outputs": [],
   "source": [
    "list_series = [ts.dropna().to_numpy() for idx, ts in monthly.iterrows()]"
   ]
  },
  {
   "cell_type": "code",
   "execution_count": 47,
   "metadata": {},
   "outputs": [],
   "source": [
    "#list_ts_test = [ts.dropna().to_numpy() for idx, ts in daily_test.iterrows()]"
   ]
  },
  {
   "cell_type": "code",
   "execution_count": 48,
   "metadata": {},
   "outputs": [],
   "source": [
    "val_periods = 6"
   ]
  },
  {
   "cell_type": "code",
   "execution_count": 49,
   "metadata": {},
   "outputs": [],
   "source": [
    "models = [Naive(), SeasonalNaive(), Naive2(), RandomWalkDrift()]"
   ]
  },
  {
   "cell_type": "code",
   "execution_count": 50,
   "metadata": {},
   "outputs": [],
   "source": [
    "frcy = 12"
   ]
  },
  {
   "cell_type": "code",
   "execution_count": 51,
   "metadata": {},
   "outputs": [],
   "source": [
    "periods_to_predict = val_periods"
   ]
  },
  {
   "cell_type": "code",
   "execution_count": 62,
   "metadata": {},
   "outputs": [],
   "source": [
    "class FForma:\n",
    "    def __init__(self):\n",
    "        pass\n",
    "    \n",
    "    # Eval functions\n",
    "    def smape(self, ts, ts_hat):\n",
    "        num = np.abs(ts-ts_hat)\n",
    "        den = np.abs(ts) + np.abs(ts_hat)\n",
    "        return 2*np.mean(num/den)\n",
    "    \n",
    "    def mase(self, ts_train, ts_test, ts_hat):\n",
    "        den = np.abs(np.diff(ts_train)).sum()/(len(ts_train) -1)\n",
    "        return np.abs(ts_test - ts_hat).mean()/den\n",
    "\n",
    "    def train_basic(self, model, ts, frcy):\n",
    "        this_model = copy.deepcopy(model)\n",
    "        if 'frcy' in model.fit.__code__.co_varnames:\n",
    "            fitted_model = this_model.fit(ts, frcy)\n",
    "        else:\n",
    "            fitted_model = this_model.fit(ts)\n",
    "\n",
    "        return fitted_model\n",
    "    \n",
    "    def train_basic_models(self, basic_models, ts_list, frcy):\n",
    "        \"\"\"\n",
    "        basic_models: List of models\n",
    "        \"\"\"\n",
    "        self.models = basic_models\n",
    "        self.ts_list = ts_list\n",
    "        self.frcy = frcy\n",
    "        self.fitted_models = [\n",
    "            np.array([self.train_basic(model, ts, frcy) for model in basic_models]) for ts in ts_list\n",
    "        ] \n",
    "        \n",
    "        return self\n",
    "        \n",
    "    def predict_basic_models(self, h):\n",
    "        self.h = h\n",
    "        y_hat = [\n",
    "            np.array([model.predict(h) for model in idts]) for idts in self.fitted_models\n",
    "        ]\n",
    "        \n",
    "        return y_hat\n",
    "    \n",
    "    def calculate_owa(self, ts_test_list, ts_hat_list, h, ts_train_list, frcy, parallel=True, threads=None):\n",
    "        \n",
    "        # init parallel\n",
    "        if parallel and threads is None:\n",
    "            threads = mp.cpu_count()\n",
    "        \n",
    "        if paralell:\n",
    "            with mp.Pool(threads) as pool:\n",
    "                pass\n",
    "            \n",
    "        smape_errors = np.array([\n",
    "            np.array(\n",
    "                [self.smape(ts_test, pred) for pred in ts_pred]\n",
    "            ) for ts_test, ts_pred in zip(ts_test_list, ts_hat_list)\n",
    "        ])\n",
    "        \n",
    "        # Mase\n",
    "        mase_errors = np.array([\n",
    "            np.array(\n",
    "                [self.mase(ts_train, ts_test, pred) for pred in ts_pred]\n",
    "            ) for ts_train, ts_test, ts_pred in zip(ts_train_list, ts_test_list, ts_hat_list)\n",
    "        ])\n",
    "        \n",
    "        ##### NAIVE2\n",
    "        # Training naive2\n",
    "        ts_hat_naive2 = [Naive2().fit(ts, frcy).predict(h) for ts in ts_train_list]\n",
    "        \n",
    "        # Smape of naive2\n",
    "        mean_smape_naive2 = np.array([\n",
    "             self.smape(ts_test, ts_pred) for ts_test, ts_pred in zip(ts_test_list, ts_hat_naive2)\n",
    "        ]).mean()\n",
    "        \n",
    "        # MASE of naive2\n",
    "        mean_mase_naive2 = np.array([\n",
    "             self.mase(ts_train, ts_test, ts_pred) for ts_train, ts_test, ts_pred in zip(ts_train_list, ts_test_list, ts_hat_naive2)\n",
    "        ]).mean()\n",
    "        \n",
    "        # Contribution to the owa error\n",
    "        contribution_to_owa = (smape_errors/mean_smape_naive2) + (mase_errors/mean_mase_naive2)\n",
    "        contribution_to_owa = contribution_to_owa/2\n",
    "        \n",
    "        return (contribution_to_owa.mean(), contribution_to_owa)\n",
    "        \n",
    "    \n",
    "    def prepare_to_train(self, ts_test_list, ts_hat_list, parallel=True):\n",
    "        ts_features = tsf.tsfeatures(self.ts_list)\n",
    "        \n",
    "        # Contribution to the owa error\n",
    "        (_, contribution_to_owa) = self.calculate_owa(ts_test_list, ts_hat_list, self.h, self.ts_list, ts.frcy, parallel)\n",
    "        \n",
    "        return (ts_features, contribution_to_owa.argmin(axis=1), contribution_to_owa)\n",
    "    \n",
    "     # Objective function for xgb\n",
    "    def error_softmax_obj(self, predt: np.ndarray, dtrain: xgb.DMatrix) -> (np.ndarray, np.ndarray):\n",
    "        '''\n",
    "        Compute...\n",
    "        '''\n",
    "        y = dtrain.get_label()\n",
    "        n_train = len(y)\n",
    "        #print(predt.shape)\n",
    "        preds_transformed = np.array([softmax(row) for row in predt])\n",
    "        weighted_avg_loss_func = (preds_transformed*self.contribution_to_owa).sum(axis=1).reshape((n_train, 1))   \n",
    "        grad = preds_transformed*(self.contribution_to_owa - weighted_avg_loss_func)\n",
    "        hess = self.contribution_to_owa*preds_transformed*(1.0-preds_transformed) - grad*preds_transformed\n",
    "        #print(grad)\n",
    "        return grad.reshape(-1, 1), hess.reshape(-1, 1)\n",
    "\n",
    "        \n",
    "    def train(self, models, ts_list, frcy, val_periods=7):\n",
    "        \n",
    "        # Creating train and test sets\n",
    "        ts_train_list = [ts[:(len(ts)-val_periods)] for ts in ts_list]\n",
    "        ts_test_list = [ts[(len(ts)-val_periods):] for ts in ts_list]\n",
    "        \n",
    "        # Training and predict\n",
    "        training = self.train_basic_models(models, ts_train_list, frcy)\n",
    "        preds = training.predict_basic_models(val_periods)\n",
    "        #print(preds)\n",
    "        \n",
    "        # Preparing data for xgb training\n",
    "        self.X_train, self.y_train, self.contribution_to_owa = training.prepare_to_train(ts_test_list, preds)\n",
    "        \n",
    "        # For test purposes\n",
    "        self.X_train = self.X_train.drop('entropy', axis=1)\n",
    "        \n",
    "        # Training xgboost\n",
    "        xgb_mat = xgb.DMatrix(data = self.X_train, label=self.y_train)\n",
    "        \n",
    "        param = {\n",
    "            'max_depth': 3,  # the maximum depth of each tree\n",
    "            'eta': 0.3,  # the training step for each iteration\n",
    "            'silent': 1,  # logging mode - quiet\n",
    "            'objective': 'multi:softprob',  # error evaluation for multiclass training\n",
    "            'num_class': len(self.models),\n",
    "            'nthread': 10\n",
    "        }\n",
    "        \n",
    "        self.xgb = xgb.train(params=param, dtrain=xgb_mat, obj=self.error_softmax_obj, num_boost_round=10)\n",
    "        \n",
    "        # Training models with all data\n",
    "        self.fitted_models = self.train_basic_models(models, ts_list, frcy).fitted_models\n",
    "        \n",
    "        # Optimal weights\n",
    "        self.ts_feat = tsf.tsfeatures(ts_list).drop('entropy', axis=1)\n",
    "        self.opt_weights = self.xgb.predict(xgb.DMatrix(self.ts_feat))\n",
    "        \n",
    "        return self\n",
    "    \n",
    "    def predict(self, h, ts_predict = None, frcy = None):\n",
    "        \"\"\"\n",
    "        For each series in ts_list returns predictions\n",
    "        ts_predict: list of series to predict\n",
    "        \"\"\"\n",
    "        # Getting predictions for ts_predict\n",
    "        if ~(ts_predict is None):\n",
    "            preds = self.train_basic_models(self.models, ts_predict, frcy).predict_basic_models(h)\n",
    "            ts_feat = tsf.tsfeatures(ts_predict).drop('entropy', axis=1)\n",
    "            opt_weights = self.xgb.predict(xgb.DMatrix(ts_feat))\n",
    "            final_preds = final_preds = np.array([np.matmul(pred.T, opt_weight) for pred, opt_weight in zip(preds, opt_weights)])\n",
    "        else:\n",
    "            preds = np.array(self.predict_basic_models(h))\n",
    "            #print(preds.shape)\n",
    "            #print(self.opt_weights.shape)\n",
    "            final_preds = np.array([np.matmul(pred.T, opt_weight) for pred, opt_weight in zip(preds, self.opt_weights)])\n",
    "            \n",
    "        return final_preds\n",
    "        \n",
    "        \n",
    "        "
   ]
  },
  {
   "cell_type": "code",
   "execution_count": 63,
   "metadata": {},
   "outputs": [
    {
     "name": "stderr",
     "output_type": "stream",
     "text": [
      "/home/fede/projects/fforma/tsfeatures/tsfeatures.py:12: FutureWarning: arrays to stack must be passed as a \"sequence\" type such as list or tuple. Support for non-sequence iterables such as generators is deprecated as of NumPy 1.16 and will raise an error in the future.\n",
      "  X = np.transpose(np.vstack((x**k for k in range(p+1))))\n",
      "/home/fede/.local/lib/python3.6/site-packages/statsmodels/tsa/stattools.py:572: FutureWarning: fft=True will become the default in a future version of statsmodels. To suppress this warning, explicitly set fft=False.\n",
      "  FutureWarning\n",
      "/home/fede/projects/fforma/tsfeatures/tsfeatures.py:12: FutureWarning: arrays to stack must be passed as a \"sequence\" type such as list or tuple. Support for non-sequence iterables such as generators is deprecated as of NumPy 1.16 and will raise an error in the future.\n",
      "  X = np.transpose(np.vstack((x**k for k in range(p+1))))\n",
      "/home/fede/.local/lib/python3.6/site-packages/statsmodels/tsa/stattools.py:572: FutureWarning: fft=True will become the default in a future version of statsmodels. To suppress this warning, explicitly set fft=False.\n",
      "  FutureWarning\n"
     ]
    }
   ],
   "source": [
    "fforma = FForma().train(models, list_series, frcy)"
   ]
  },
  {
   "cell_type": "code",
   "execution_count": 64,
   "metadata": {},
   "outputs": [
    {
     "data": {
      "text/plain": [
       "<matplotlib.axes._subplots.AxesSubplot at 0x7f22669b53c8>"
      ]
     },
     "execution_count": 64,
     "metadata": {},
     "output_type": "execute_result"
    },
    {
     "data": {
      "image/png": "[encoded data removed]",
      "text/plain": [
       "<Figure size 432x288 with 1 Axes>"
      ]
     },
     "metadata": {
      "needs_background": "light"
     },
     "output_type": "display_data"
    }
   ],
   "source": [
    "xgb.plot_importance(fforma.xgb)"
   ]
  },
  {
   "cell_type": "code",
   "execution_count": 65,
   "metadata": {},
   "outputs": [],
   "source": [
    "inflation_train = inflacion[:(len(inflacion) - val_periods)]"
   ]
  },
  {
   "cell_type": "code",
   "execution_count": 67,
   "metadata": {},
   "outputs": [],
   "source": [
    "inflation_test = inflacion[(len(inflacion) - val_periods):]"
   ]
  },
  {
   "cell_type": "code",
   "execution_count": 70,
   "metadata": {},
   "outputs": [
    {
     "name": "stderr",
     "output_type": "stream",
     "text": [
      "/home/fede/projects/fforma/tsfeatures/tsfeatures.py:12: FutureWarning: arrays to stack must be passed as a \"sequence\" type such as list or tuple. Support for non-sequence iterables such as generators is deprecated as of NumPy 1.16 and will raise an error in the future.\n",
      "  X = np.transpose(np.vstack((x**k for k in range(p+1))))\n",
      "/home/fede/.local/lib/python3.6/site-packages/statsmodels/tsa/stattools.py:572: FutureWarning: fft=True will become the default in a future version of statsmodels. To suppress this warning, explicitly set fft=False.\n",
      "  FutureWarning\n"
     ]
    }
   ],
   "source": [
    "preds = fforma.predict(val_periods, [inflation_train], 12)"
   ]
  },
  {
   "cell_type": "code",
   "execution_count": 75,
   "metadata": {},
   "outputs": [
    {
     "data": {
      "text/plain": [
       "[<matplotlib.lines.Line2D at 0x7f2260c4e780>]"
      ]
     },
     "execution_count": 75,
     "metadata": {},
     "output_type": "execute_result"
    },
    {
     "data": {
      "image/png": "[encoded data removed]",
      "text/plain": [
       "<Figure size 432x288 with 1 Axes>"
      ]
     },
     "metadata": {
      "needs_background": "light"
     },
     "output_type": "display_data"
    }
   ],
   "source": [
    "plt.plot(inflation_test)\n",
    "plt.plot(preds[0])"
   ]
  },
  {
   "cell_type": "code",
   "execution_count": null,
   "metadata": {},
   "outputs": [],
   "source": []
  }
 ],
 "metadata": {
  "kernelspec": {
   "display_name": "Python 3",
   "language": "python",
   "name": "python3"
  },
  "language_info": {
   "codemirror_mode": {
    "name": "ipython",
    "version": 3
   },
   "file_extension": ".py",
   "mimetype": "text/x-python",
   "name": "python",
   "nbconvert_exporter": "python",
   "pygments_lexer": "ipython3",
   "version": "3.7.3"
  }
 },
 "nbformat": 4,
 "nbformat_minor": 4
}
