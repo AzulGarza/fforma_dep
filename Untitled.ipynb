{
 "cells": [
  {
   "cell_type": "code",
   "execution_count": 11,
   "metadata": {},
   "outputs": [
    {
     "ename": "ModuleNotFoundError",
     "evalue": "No module named 'matplotlib.pylot'",
     "output_type": "error",
     "traceback": [
      "\u001b[0;31m---------------------------------------------------------------------------\u001b[0m",
      "\u001b[0;31mModuleNotFoundError\u001b[0m                       Traceback (most recent call last)",
      "\u001b[0;32m<ipython-input-11-528de16f6d8b>\u001b[0m in \u001b[0;36m<module>\u001b[0;34m\u001b[0m\n\u001b[1;32m      1\u001b[0m \u001b[0;32mfrom\u001b[0m \u001b[0mfforma\u001b[0m \u001b[0;32mimport\u001b[0m \u001b[0;34m*\u001b[0m\u001b[0;34m\u001b[0m\u001b[0;34m\u001b[0m\u001b[0m\n\u001b[0;32m----> 2\u001b[0;31m \u001b[0;32mimport\u001b[0m \u001b[0mmatplotlib\u001b[0m\u001b[0;34m.\u001b[0m\u001b[0mpylot\u001b[0m \u001b[0;32mas\u001b[0m \u001b[0mplt\u001b[0m\u001b[0;34m\u001b[0m\u001b[0;34m\u001b[0m\u001b[0m\n\u001b[0m",
      "\u001b[0;31mModuleNotFoundError\u001b[0m: No module named 'matplotlib.pylot'"
     ]
    }
   ],
   "source": [
    "from fforma import *\n",
    "import matplotlib.pylot as plt"
   ]
  },
  {
   "cell_type": "code",
   "execution_count": 2,
   "metadata": {},
   "outputs": [],
   "source": [
    "monthly = pd.read_csv('data/data_m4/Monthly-train.csv', nrows=1000).set_index('V1')"
   ]
  },
  {
   "cell_type": "code",
   "execution_count": 3,
   "metadata": {},
   "outputs": [],
   "source": [
    "list_series = [ts.dropna().to_numpy() for idx, ts in monthly.iterrows()]"
   ]
  },
  {
   "cell_type": "code",
   "execution_count": 4,
   "metadata": {},
   "outputs": [],
   "source": [
    "#list_ts_test = [ts.dropna().to_numpy() for idx, ts in daily_test.iterrows()]"
   ]
  },
  {
   "cell_type": "code",
   "execution_count": 5,
   "metadata": {},
   "outputs": [],
   "source": [
    "val_periods = 6"
   ]
  },
  {
   "cell_type": "code",
   "execution_count": 6,
   "metadata": {},
   "outputs": [],
   "source": [
    "models = [Naive(), SeasonalNaive(), Naive2(), RandomWalkDrift()]"
   ]
  },
  {
   "cell_type": "code",
   "execution_count": 7,
   "metadata": {},
   "outputs": [],
   "source": [
    "frcy = 12"
   ]
  },
  {
   "cell_type": "code",
   "execution_count": 8,
   "metadata": {},
   "outputs": [],
   "source": [
    "periods_to_predict = val_periods"
   ]
  },
  {
   "cell_type": "code",
   "execution_count": 9,
   "metadata": {},
   "outputs": [
    {
     "name": "stderr",
     "output_type": "stream",
     "text": [
      "/home/fede/.local/lib/python3.6/site-packages/entropy/entropy.py:177: RuntimeWarning: divide by zero encountered in log2\n",
      "  se = -np.multiply(psd_norm, np.log2(psd_norm)).sum()\n",
      "/home/fede/.local/lib/python3.6/site-packages/entropy/entropy.py:177: RuntimeWarning: invalid value encountered in multiply\n",
      "  se = -np.multiply(psd_norm, np.log2(psd_norm)).sum()\n",
      "/home/fede/.local/lib/python3.6/site-packages/entropy/entropy.py:177: RuntimeWarning: divide by zero encountered in log2\n",
      "  se = -np.multiply(psd_norm, np.log2(psd_norm)).sum()\n",
      "/home/fede/.local/lib/python3.6/site-packages/entropy/entropy.py:177: RuntimeWarning: invalid value encountered in multiply\n",
      "  se = -np.multiply(psd_norm, np.log2(psd_norm)).sum()\n",
      "/home/fede/.local/lib/python3.6/site-packages/entropy/entropy.py:177: RuntimeWarning: divide by zero encountered in log2\n",
      "  se = -np.multiply(psd_norm, np.log2(psd_norm)).sum()\n",
      "/home/fede/.local/lib/python3.6/site-packages/entropy/entropy.py:177: RuntimeWarning: invalid value encountered in multiply\n",
      "  se = -np.multiply(psd_norm, np.log2(psd_norm)).sum()\n",
      "/home/fede/.local/lib/python3.6/site-packages/entropy/entropy.py:177: RuntimeWarning: divide by zero encountered in log2\n",
      "  se = -np.multiply(psd_norm, np.log2(psd_norm)).sum()\n",
      "/home/fede/.local/lib/python3.6/site-packages/entropy/entropy.py:177: RuntimeWarning: invalid value encountered in multiply\n",
      "  se = -np.multiply(psd_norm, np.log2(psd_norm)).sum()\n",
      "/home/fede/.local/lib/python3.6/site-packages/statsmodels/regression/linear_model.py:1405: RuntimeWarning: invalid value encountered in sqrt\n",
      "  return rho, np.sqrt(sigmasq)\n",
      "/home/fede/.local/lib/python3.6/site-packages/entropy/entropy.py:177: RuntimeWarning: divide by zero encountered in log2\n",
      "  se = -np.multiply(psd_norm, np.log2(psd_norm)).sum()\n",
      "/home/fede/.local/lib/python3.6/site-packages/entropy/entropy.py:177: RuntimeWarning: invalid value encountered in multiply\n",
      "  se = -np.multiply(psd_norm, np.log2(psd_norm)).sum()\n",
      "/home/fede/.local/lib/python3.6/site-packages/entropy/entropy.py:177: RuntimeWarning: divide by zero encountered in log2\n",
      "  se = -np.multiply(psd_norm, np.log2(psd_norm)).sum()\n",
      "/home/fede/.local/lib/python3.6/site-packages/entropy/entropy.py:177: RuntimeWarning: invalid value encountered in multiply\n",
      "  se = -np.multiply(psd_norm, np.log2(psd_norm)).sum()\n",
      "/home/fede/.local/lib/python3.6/site-packages/entropy/entropy.py:177: RuntimeWarning: divide by zero encountered in log2\n",
      "  se = -np.multiply(psd_norm, np.log2(psd_norm)).sum()\n",
      "/home/fede/.local/lib/python3.6/site-packages/entropy/entropy.py:177: RuntimeWarning: invalid value encountered in multiply\n",
      "  se = -np.multiply(psd_norm, np.log2(psd_norm)).sum()\n",
      "/home/fede/.local/lib/python3.6/site-packages/entropy/entropy.py:177: RuntimeWarning: divide by zero encountered in log2\n",
      "  se = -np.multiply(psd_norm, np.log2(psd_norm)).sum()\n",
      "/home/fede/.local/lib/python3.6/site-packages/entropy/entropy.py:177: RuntimeWarning: invalid value encountered in multiply\n",
      "  se = -np.multiply(psd_norm, np.log2(psd_norm)).sum()\n",
      "/home/fede/.local/lib/python3.6/site-packages/entropy/entropy.py:177: RuntimeWarning: divide by zero encountered in log2\n",
      "  se = -np.multiply(psd_norm, np.log2(psd_norm)).sum()\n",
      "/home/fede/.local/lib/python3.6/site-packages/entropy/entropy.py:177: RuntimeWarning: divide by zero encountered in log2\n",
      "  se = -np.multiply(psd_norm, np.log2(psd_norm)).sum()\n",
      "/home/fede/.local/lib/python3.6/site-packages/entropy/entropy.py:177: RuntimeWarning: invalid value encountered in multiply\n",
      "  se = -np.multiply(psd_norm, np.log2(psd_norm)).sum()\n",
      "/home/fede/.local/lib/python3.6/site-packages/entropy/entropy.py:177: RuntimeWarning: invalid value encountered in multiply\n",
      "  se = -np.multiply(psd_norm, np.log2(psd_norm)).sum()\n",
      "/home/fede/.local/lib/python3.6/site-packages/entropy/entropy.py:177: RuntimeWarning: divide by zero encountered in log2\n",
      "  se = -np.multiply(psd_norm, np.log2(psd_norm)).sum()\n",
      "/home/fede/.local/lib/python3.6/site-packages/entropy/entropy.py:177: RuntimeWarning: invalid value encountered in multiply\n",
      "  se = -np.multiply(psd_norm, np.log2(psd_norm)).sum()\n",
      "/home/fede/.local/lib/python3.6/site-packages/entropy/entropy.py:177: RuntimeWarning: divide by zero encountered in log2\n",
      "  se = -np.multiply(psd_norm, np.log2(psd_norm)).sum()\n",
      "/home/fede/.local/lib/python3.6/site-packages/entropy/entropy.py:177: RuntimeWarning: invalid value encountered in multiply\n",
      "  se = -np.multiply(psd_norm, np.log2(psd_norm)).sum()\n",
      "/home/fede/.local/lib/python3.6/site-packages/entropy/entropy.py:177: RuntimeWarning: divide by zero encountered in log2\n",
      "  se = -np.multiply(psd_norm, np.log2(psd_norm)).sum()\n",
      "/home/fede/.local/lib/python3.6/site-packages/entropy/entropy.py:177: RuntimeWarning: divide by zero encountered in log2\n",
      "  se = -np.multiply(psd_norm, np.log2(psd_norm)).sum()\n",
      "/home/fede/.local/lib/python3.6/site-packages/entropy/entropy.py:177: RuntimeWarning: invalid value encountered in multiply\n",
      "  se = -np.multiply(psd_norm, np.log2(psd_norm)).sum()\n",
      "/home/fede/.local/lib/python3.6/site-packages/entropy/entropy.py:177: RuntimeWarning: invalid value encountered in multiply\n",
      "  se = -np.multiply(psd_norm, np.log2(psd_norm)).sum()\n",
      "/home/fede/.local/lib/python3.6/site-packages/entropy/entropy.py:177: RuntimeWarning: divide by zero encountered in log2\n",
      "  se = -np.multiply(psd_norm, np.log2(psd_norm)).sum()\n",
      "/home/fede/.local/lib/python3.6/site-packages/entropy/entropy.py:177: RuntimeWarning: invalid value encountered in multiply\n",
      "  se = -np.multiply(psd_norm, np.log2(psd_norm)).sum()\n",
      "/home/fede/.local/lib/python3.6/site-packages/entropy/entropy.py:177: RuntimeWarning: divide by zero encountered in log2\n",
      "  se = -np.multiply(psd_norm, np.log2(psd_norm)).sum()\n",
      "/home/fede/.local/lib/python3.6/site-packages/entropy/entropy.py:177: RuntimeWarning: invalid value encountered in multiply\n",
      "  se = -np.multiply(psd_norm, np.log2(psd_norm)).sum()\n",
      "/home/fede/.local/lib/python3.6/site-packages/statsmodels/regression/linear_model.py:1405: RuntimeWarning: invalid value encountered in sqrt\n",
      "  return rho, np.sqrt(sigmasq)\n",
      "/home/fede/.local/lib/python3.6/site-packages/entropy/entropy.py:177: RuntimeWarning: divide by zero encountered in log2\n",
      "  se = -np.multiply(psd_norm, np.log2(psd_norm)).sum()\n",
      "/home/fede/.local/lib/python3.6/site-packages/entropy/entropy.py:177: RuntimeWarning: invalid value encountered in multiply\n",
      "  se = -np.multiply(psd_norm, np.log2(psd_norm)).sum()\n"
     ]
    }
   ],
   "source": [
    "fforma = FForma().train(models, list_series, frcy)"
   ]
  },
  {
   "cell_type": "code",
   "execution_count": 12,
   "metadata": {},
   "outputs": [
    {
     "data": {
      "text/plain": [
       "<matplotlib.axes._subplots.AxesSubplot at 0x7fb86c753d68>"
      ]
     },
     "execution_count": 12,
     "metadata": {},
     "output_type": "execute_result"
    },
    {
     "data": {
      "image/png": "[encoded data removed]",
      "text/plain": [
       "<Figure size 432x288 with 1 Axes>"
      ]
     },
     "metadata": {
      "needs_background": "light"
     },
     "output_type": "display_data"
    }
   ],
   "source": [
    "xgb.plot_importance(fforma.xgb)"
   ]
  },
  {
   "cell_type": "code",
   "execution_count": 13,
   "metadata": {},
   "outputs": [],
   "source": [
    "preds = fforma.predict(val_periods)"
   ]
  },
  {
   "cell_type": "code",
   "execution_count": 14,
   "metadata": {},
   "outputs": [
    {
     "data": {
      "text/plain": [
       "array([[ 8623.71530896,  7690.99938594,  6197.31620117,  5839.42363059,\n",
       "         6138.965373  ,  5764.10874397],\n",
       "       [ 2525.08412705,  2230.10635002,  2309.3533764 ,  2199.37031976,\n",
       "         2113.80497222,  2054.85491848],\n",
       "       [13213.19505658, 13274.09111237, 13359.79387778, 13329.67411159,\n",
       "        13342.32806446, 13394.2105599 ],\n",
       "       ...,\n",
       "       [ 3633.15517317,  3715.52162823,  3811.42182864,  3844.26742745,\n",
       "         3858.31863926,  3853.27108543],\n",
       "       [ 2998.73152272,  3075.55802769,  3149.08893151,  3170.23967168,\n",
       "         3181.34525886,  3177.79734669],\n",
       "       [ 1493.04882848,  1473.59519356,  1452.88865718,  1663.52508925,\n",
       "         1117.58550201,  1380.94042975]])"
      ]
     },
     "execution_count": 14,
     "metadata": {},
     "output_type": "execute_result"
    }
   ],
   "source": [
    "preds"
   ]
  },
  {
   "cell_type": "code",
   "execution_count": 75,
   "metadata": {},
   "outputs": [
    {
     "data": {
      "text/plain": [
       "[<matplotlib.lines.Line2D at 0x7f2260c4e780>]"
      ]
     },
     "execution_count": 75,
     "metadata": {},
     "output_type": "execute_result"
    },
    {
     "data": {
      "image/png": "[encoded data removed]",
      "text/plain": [
       "<Figure size 432x288 with 1 Axes>"
      ]
     },
     "metadata": {
      "needs_background": "light"
     },
     "output_type": "display_data"
    }
   ],
   "source": [
    "plt.plot(inflation_test)\n",
    "plt.plot(preds[0])"
   ]
  },
  {
   "cell_type": "code",
   "execution_count": null,
   "metadata": {},
   "outputs": [],
   "source": []
  }
 ],
 "metadata": {
  "kernelspec": {
   "display_name": "Python 3",
   "language": "python",
   "name": "python3"
  },
  "language_info": {
   "codemirror_mode": {
    "name": "ipython",
    "version": 3
   },
   "file_extension": ".py",
   "mimetype": "text/x-python",
   "name": "python",
   "nbconvert_exporter": "python",
   "pygments_lexer": "ipython3",
   "version": "3.6.7"
  }
 },
 "nbformat": 4,
 "nbformat_minor": 4
}
